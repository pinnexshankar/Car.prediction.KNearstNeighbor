{
 "cells": [
  {
   "cell_type": "code",
   "execution_count": 1,
   "id": "0f0c9b9f",
   "metadata": {},
   "outputs": [],
   "source": [
    "import pandas as pd \n",
    "import numpy as np\n",
    "import matplotlib.pyplot as plt\n",
    "import seaborn as sns\n",
    "import warnings \n",
    "warnings.filterwarnings('ignore')"
   ]
  },
  {
   "cell_type": "code",
   "execution_count": 2,
   "id": "d2371019",
   "metadata": {},
   "outputs": [
    {
     "data": {
      "text/html": [
       "<div>\n",
       "<style scoped>\n",
       "    .dataframe tbody tr th:only-of-type {\n",
       "        vertical-align: middle;\n",
       "    }\n",
       "\n",
       "    .dataframe tbody tr th {\n",
       "        vertical-align: top;\n",
       "    }\n",
       "\n",
       "    .dataframe thead th {\n",
       "        text-align: right;\n",
       "    }\n",
       "</style>\n",
       "<table border=\"1\" class=\"dataframe\">\n",
       "  <thead>\n",
       "    <tr style=\"text-align: right;\">\n",
       "      <th></th>\n",
       "      <th>name</th>\n",
       "      <th>year</th>\n",
       "      <th>selling_price</th>\n",
       "      <th>km_driven</th>\n",
       "      <th>fuel</th>\n",
       "      <th>seller_type</th>\n",
       "      <th>transmission</th>\n",
       "      <th>owner</th>\n",
       "    </tr>\n",
       "  </thead>\n",
       "  <tbody>\n",
       "    <tr>\n",
       "      <th>0</th>\n",
       "      <td>Ambassador CLASSIC 1500 DSL AC</td>\n",
       "      <td>2005</td>\n",
       "      <td>120000</td>\n",
       "      <td>50000</td>\n",
       "      <td>Diesel</td>\n",
       "      <td>Individual</td>\n",
       "      <td>Manual</td>\n",
       "      <td>Second Owner</td>\n",
       "    </tr>\n",
       "    <tr>\n",
       "      <th>1</th>\n",
       "      <td>Ambassador CLASSIC 1500 DSL AC</td>\n",
       "      <td>2005</td>\n",
       "      <td>120000</td>\n",
       "      <td>50000</td>\n",
       "      <td>Diesel</td>\n",
       "      <td>Individual</td>\n",
       "      <td>Manual</td>\n",
       "      <td>Second Owner</td>\n",
       "    </tr>\n",
       "    <tr>\n",
       "      <th>2</th>\n",
       "      <td>Ambassador Classic 2000 Dsz</td>\n",
       "      <td>2002</td>\n",
       "      <td>50000</td>\n",
       "      <td>120000</td>\n",
       "      <td>Diesel</td>\n",
       "      <td>Individual</td>\n",
       "      <td>Manual</td>\n",
       "      <td>Fourth &amp; Above Owner</td>\n",
       "    </tr>\n",
       "    <tr>\n",
       "      <th>3</th>\n",
       "      <td>Ambassador Grand 1800 ISZ MPFI PW CL</td>\n",
       "      <td>2012</td>\n",
       "      <td>430000</td>\n",
       "      <td>50000</td>\n",
       "      <td>Petrol</td>\n",
       "      <td>Individual</td>\n",
       "      <td>Manual</td>\n",
       "      <td>Second Owner</td>\n",
       "    </tr>\n",
       "    <tr>\n",
       "      <th>4</th>\n",
       "      <td>Audi A4 1.8 TFSI</td>\n",
       "      <td>2012</td>\n",
       "      <td>1200000</td>\n",
       "      <td>60000</td>\n",
       "      <td>Petrol</td>\n",
       "      <td>Individual</td>\n",
       "      <td>Automatic</td>\n",
       "      <td>Third Owner</td>\n",
       "    </tr>\n",
       "  </tbody>\n",
       "</table>\n",
       "</div>"
      ],
      "text/plain": [
       "                                   name  year  selling_price  km_driven  \\\n",
       "0        Ambassador CLASSIC 1500 DSL AC  2005         120000      50000   \n",
       "1        Ambassador CLASSIC 1500 DSL AC  2005         120000      50000   \n",
       "2           Ambassador Classic 2000 Dsz  2002          50000     120000   \n",
       "3  Ambassador Grand 1800 ISZ MPFI PW CL  2012         430000      50000   \n",
       "4                      Audi A4 1.8 TFSI  2012        1200000      60000   \n",
       "\n",
       "     fuel seller_type transmission                 owner  \n",
       "0  Diesel  Individual       Manual          Second Owner  \n",
       "1  Diesel  Individual       Manual          Second Owner  \n",
       "2  Diesel  Individual       Manual  Fourth & Above Owner  \n",
       "3  Petrol  Individual       Manual          Second Owner  \n",
       "4  Petrol  Individual    Automatic           Third Owner  "
      ]
     },
     "execution_count": 2,
     "metadata": {},
     "output_type": "execute_result"
    }
   ],
   "source": [
    "car=pd.read_csv('CAR DETAILS.csv')\n",
    "car.head()"
   ]
  },
  {
   "cell_type": "markdown",
   "id": "daf646bf",
   "metadata": {},
   "source": [
    "𝑜𝑏𝑠𝑒𝑟𝑣𝑎𝑡𝑖𝑜𝑛: There are 4340 rows and 8 columns"
   ]
  },
  {
   "cell_type": "code",
   "execution_count": 3,
   "id": "9f14362d",
   "metadata": {},
   "outputs": [
    {
     "data": {
      "text/plain": [
       "(4340, 8)"
      ]
     },
     "execution_count": 3,
     "metadata": {},
     "output_type": "execute_result"
    }
   ],
   "source": [
    "car.shape"
   ]
  },
  {
   "cell_type": "markdown",
   "id": "5fefc51a",
   "metadata": {},
   "source": [
    "$observation$: there is no null values in this data set"
   ]
  },
  {
   "cell_type": "code",
   "execution_count": 4,
   "id": "06efc498",
   "metadata": {
    "scrolled": false
   },
   "outputs": [
    {
     "data": {
      "text/plain": [
       "name             0\n",
       "year             0\n",
       "selling_price    0\n",
       "km_driven        0\n",
       "fuel             0\n",
       "seller_type      0\n",
       "transmission     0\n",
       "owner            0\n",
       "dtype: int64"
      ]
     },
     "execution_count": 4,
     "metadata": {},
     "output_type": "execute_result"
    }
   ],
   "source": [
    "car.isnull().sum()"
   ]
  },
  {
   "cell_type": "markdown",
   "id": "75d40cb6",
   "metadata": {},
   "source": [
    "$𝑜𝑏𝑠𝑒𝑟𝑣𝑎𝑡𝑖𝑜𝑛$: There are 5 objects and 3 integers datatype in the data set"
   ]
  },
  {
   "cell_type": "code",
   "execution_count": 5,
   "id": "3b1c5c98",
   "metadata": {
    "scrolled": false
   },
   "outputs": [
    {
     "data": {
      "text/plain": [
       "name             object\n",
       "year              int64\n",
       "selling_price     int64\n",
       "km_driven         int64\n",
       "fuel             object\n",
       "seller_type      object\n",
       "transmission     object\n",
       "owner            object\n",
       "dtype: object"
      ]
     },
     "execution_count": 5,
     "metadata": {},
     "output_type": "execute_result"
    }
   ],
   "source": [
    "car.dtypes"
   ]
  },
  {
   "cell_type": "markdown",
   "id": "fad933aa",
   "metadata": {},
   "source": [
    "$Observation$:\n",
    "* Name, Fuel, Seller Type, Transmission, Owner are object Data type\n",
    "* Year is integer type currently. Since Year is a categorical variable here, let us convert it to category data data type in Python.\n",
    "* Remaining Two column variables are numerical and there for their python data types int64 are ok."
   ]
  },
  {
   "cell_type": "code",
   "execution_count": 6,
   "id": "5eb4af60",
   "metadata": {
    "scrolled": true
   },
   "outputs": [
    {
     "data": {
      "text/plain": [
       "763"
      ]
     },
     "execution_count": 6,
     "metadata": {},
     "output_type": "execute_result"
    }
   ],
   "source": [
    "car.duplicated().sum()"
   ]
  },
  {
   "cell_type": "code",
   "execution_count": 7,
   "id": "a4ed8bd2",
   "metadata": {},
   "outputs": [],
   "source": [
    "car.drop_duplicates(inplace=True)"
   ]
  },
  {
   "cell_type": "code",
   "execution_count": 8,
   "id": "cc6532e2",
   "metadata": {
    "scrolled": true
   },
   "outputs": [
    {
     "data": {
      "text/plain": [
       "0"
      ]
     },
     "execution_count": 8,
     "metadata": {},
     "output_type": "execute_result"
    }
   ],
   "source": [
    "car.duplicated().sum()"
   ]
  },
  {
   "cell_type": "markdown",
   "id": "1fe0c8c6",
   "metadata": {},
   "source": [
    "$Conclusion$: There are 763 duplicates now we droped the duplicates."
   ]
  },
  {
   "cell_type": "code",
   "execution_count": 9,
   "id": "8c0c4f9b",
   "metadata": {
    "scrolled": true
   },
   "outputs": [
    {
     "data": {
      "text/html": [
       "<div>\n",
       "<style scoped>\n",
       "    .dataframe tbody tr th:only-of-type {\n",
       "        vertical-align: middle;\n",
       "    }\n",
       "\n",
       "    .dataframe tbody tr th {\n",
       "        vertical-align: top;\n",
       "    }\n",
       "\n",
       "    .dataframe thead th {\n",
       "        text-align: right;\n",
       "    }\n",
       "</style>\n",
       "<table border=\"1\" class=\"dataframe\">\n",
       "  <thead>\n",
       "    <tr style=\"text-align: right;\">\n",
       "      <th></th>\n",
       "      <th>year</th>\n",
       "      <th>selling_price</th>\n",
       "      <th>km_driven</th>\n",
       "    </tr>\n",
       "  </thead>\n",
       "  <tbody>\n",
       "    <tr>\n",
       "      <th>count</th>\n",
       "      <td>3577.000000</td>\n",
       "      <td>3.577000e+03</td>\n",
       "      <td>3577.000000</td>\n",
       "    </tr>\n",
       "    <tr>\n",
       "      <th>mean</th>\n",
       "      <td>2012.962538</td>\n",
       "      <td>4.739125e+05</td>\n",
       "      <td>69250.545709</td>\n",
       "    </tr>\n",
       "    <tr>\n",
       "      <th>std</th>\n",
       "      <td>4.251759</td>\n",
       "      <td>5.093018e+05</td>\n",
       "      <td>47579.940016</td>\n",
       "    </tr>\n",
       "    <tr>\n",
       "      <th>min</th>\n",
       "      <td>1992.000000</td>\n",
       "      <td>2.000000e+04</td>\n",
       "      <td>1.000000</td>\n",
       "    </tr>\n",
       "    <tr>\n",
       "      <th>25%</th>\n",
       "      <td>2010.000000</td>\n",
       "      <td>2.000000e+05</td>\n",
       "      <td>36000.000000</td>\n",
       "    </tr>\n",
       "    <tr>\n",
       "      <th>50%</th>\n",
       "      <td>2013.000000</td>\n",
       "      <td>3.500000e+05</td>\n",
       "      <td>60000.000000</td>\n",
       "    </tr>\n",
       "    <tr>\n",
       "      <th>75%</th>\n",
       "      <td>2016.000000</td>\n",
       "      <td>6.000000e+05</td>\n",
       "      <td>90000.000000</td>\n",
       "    </tr>\n",
       "    <tr>\n",
       "      <th>max</th>\n",
       "      <td>2020.000000</td>\n",
       "      <td>8.900000e+06</td>\n",
       "      <td>806599.000000</td>\n",
       "    </tr>\n",
       "  </tbody>\n",
       "</table>\n",
       "</div>"
      ],
      "text/plain": [
       "              year  selling_price      km_driven\n",
       "count  3577.000000   3.577000e+03    3577.000000\n",
       "mean   2012.962538   4.739125e+05   69250.545709\n",
       "std       4.251759   5.093018e+05   47579.940016\n",
       "min    1992.000000   2.000000e+04       1.000000\n",
       "25%    2010.000000   2.000000e+05   36000.000000\n",
       "50%    2013.000000   3.500000e+05   60000.000000\n",
       "75%    2016.000000   6.000000e+05   90000.000000\n",
       "max    2020.000000   8.900000e+06  806599.000000"
      ]
     },
     "execution_count": 9,
     "metadata": {},
     "output_type": "execute_result"
    }
   ],
   "source": [
    "car.describe()"
   ]
  },
  {
   "cell_type": "markdown",
   "id": "170ed1e1",
   "metadata": {},
   "source": [
    "$Obsercation$:-\n",
    "* The Selling Price of a car Ranging from 20000 to 8900000 \n",
    "* The mean Selling Price is close to the 75% Percentile of the data, indecating right skew.\n",
    "* The standard deviation of selling price is high"
   ]
  },
  {
   "cell_type": "markdown",
   "id": "a131e88a",
   "metadata": {},
   "source": [
    "$Observations$: There are 763 duplicates values in the Data set"
   ]
  },
  {
   "cell_type": "markdown",
   "id": "f1936a8c",
   "metadata": {},
   "source": [
    "#### value counts of categorical colunm Car Brands on line chart(matplotlib)"
   ]
  },
  {
   "cell_type": "code",
   "execution_count": 10,
   "id": "e29a2e81",
   "metadata": {},
   "outputs": [],
   "source": [
    "Car_Brand = car['name'].apply(lambda x : x.split(' ')[0])\n",
    "car.insert(1,\"Car Brand\",Car_Brand)\n",
    "#car.drop(['name'],axis=1,inplace=True)"
   ]
  },
  {
   "cell_type": "code",
   "execution_count": 11,
   "id": "f21fdb8f",
   "metadata": {},
   "outputs": [
    {
     "data": {
      "text/html": [
       "<div>\n",
       "<style scoped>\n",
       "    .dataframe tbody tr th:only-of-type {\n",
       "        vertical-align: middle;\n",
       "    }\n",
       "\n",
       "    .dataframe tbody tr th {\n",
       "        vertical-align: top;\n",
       "    }\n",
       "\n",
       "    .dataframe thead th {\n",
       "        text-align: right;\n",
       "    }\n",
       "</style>\n",
       "<table border=\"1\" class=\"dataframe\">\n",
       "  <thead>\n",
       "    <tr style=\"text-align: right;\">\n",
       "      <th></th>\n",
       "      <th>name</th>\n",
       "      <th>Car Brand</th>\n",
       "      <th>year</th>\n",
       "      <th>selling_price</th>\n",
       "      <th>km_driven</th>\n",
       "      <th>fuel</th>\n",
       "      <th>seller_type</th>\n",
       "      <th>transmission</th>\n",
       "      <th>owner</th>\n",
       "    </tr>\n",
       "  </thead>\n",
       "  <tbody>\n",
       "    <tr>\n",
       "      <th>0</th>\n",
       "      <td>Ambassador CLASSIC 1500 DSL AC</td>\n",
       "      <td>Ambassador</td>\n",
       "      <td>2005</td>\n",
       "      <td>120000</td>\n",
       "      <td>50000</td>\n",
       "      <td>Diesel</td>\n",
       "      <td>Individual</td>\n",
       "      <td>Manual</td>\n",
       "      <td>Second Owner</td>\n",
       "    </tr>\n",
       "    <tr>\n",
       "      <th>2</th>\n",
       "      <td>Ambassador Classic 2000 Dsz</td>\n",
       "      <td>Ambassador</td>\n",
       "      <td>2002</td>\n",
       "      <td>50000</td>\n",
       "      <td>120000</td>\n",
       "      <td>Diesel</td>\n",
       "      <td>Individual</td>\n",
       "      <td>Manual</td>\n",
       "      <td>Fourth &amp; Above Owner</td>\n",
       "    </tr>\n",
       "    <tr>\n",
       "      <th>3</th>\n",
       "      <td>Ambassador Grand 1800 ISZ MPFI PW CL</td>\n",
       "      <td>Ambassador</td>\n",
       "      <td>2012</td>\n",
       "      <td>430000</td>\n",
       "      <td>50000</td>\n",
       "      <td>Petrol</td>\n",
       "      <td>Individual</td>\n",
       "      <td>Manual</td>\n",
       "      <td>Second Owner</td>\n",
       "    </tr>\n",
       "    <tr>\n",
       "      <th>4</th>\n",
       "      <td>Audi A4 1.8 TFSI</td>\n",
       "      <td>Audi</td>\n",
       "      <td>2012</td>\n",
       "      <td>1200000</td>\n",
       "      <td>60000</td>\n",
       "      <td>Petrol</td>\n",
       "      <td>Individual</td>\n",
       "      <td>Automatic</td>\n",
       "      <td>Third Owner</td>\n",
       "    </tr>\n",
       "    <tr>\n",
       "      <th>5</th>\n",
       "      <td>Audi A4 2.0 TDI</td>\n",
       "      <td>Audi</td>\n",
       "      <td>2011</td>\n",
       "      <td>1295000</td>\n",
       "      <td>58000</td>\n",
       "      <td>Diesel</td>\n",
       "      <td>Dealer</td>\n",
       "      <td>Automatic</td>\n",
       "      <td>First Owner</td>\n",
       "    </tr>\n",
       "  </tbody>\n",
       "</table>\n",
       "</div>"
      ],
      "text/plain": [
       "                                   name   Car Brand  year  selling_price  \\\n",
       "0        Ambassador CLASSIC 1500 DSL AC  Ambassador  2005         120000   \n",
       "2           Ambassador Classic 2000 Dsz  Ambassador  2002          50000   \n",
       "3  Ambassador Grand 1800 ISZ MPFI PW CL  Ambassador  2012         430000   \n",
       "4                      Audi A4 1.8 TFSI        Audi  2012        1200000   \n",
       "5                       Audi A4 2.0 TDI        Audi  2011        1295000   \n",
       "\n",
       "   km_driven    fuel seller_type transmission                 owner  \n",
       "0      50000  Diesel  Individual       Manual          Second Owner  \n",
       "2     120000  Diesel  Individual       Manual  Fourth & Above Owner  \n",
       "3      50000  Petrol  Individual       Manual          Second Owner  \n",
       "4      60000  Petrol  Individual    Automatic           Third Owner  \n",
       "5      58000  Diesel      Dealer    Automatic           First Owner  "
      ]
     },
     "execution_count": 11,
     "metadata": {},
     "output_type": "execute_result"
    }
   ],
   "source": [
    "car.head()"
   ]
  },
  {
   "cell_type": "code",
   "execution_count": 12,
   "id": "1f5943b3",
   "metadata": {},
   "outputs": [
    {
     "name": "stdout",
     "output_type": "stream",
     "text": [
      "Index(['Maruti', 'Hyundai', 'Mahindra', 'Tata', 'Ford', 'Honda', 'Toyota',\n",
      "       'Chevrolet', 'Renault', 'Volkswagen', 'Nissan', 'Skoda', 'Fiat', 'Audi',\n",
      "       'Datsun', 'BMW', 'Mercedes-Benz', 'Mitsubishi', 'Land', 'Jaguar',\n",
      "       'Volvo', 'Ambassador', 'Jeep', 'OpelCorsa', 'MG', 'Isuzu', 'Force',\n",
      "       'Daewoo', 'Kia'],\n",
      "      dtype='object')\n"
     ]
    },
    {
     "data": {
      "text/plain": [
       "array([1072,  637,  328,  308,  220,  216,  170,  151,  110,   93,   52,\n",
       "         49,   32,   31,   29,   25,   21,    5,    5,    5,    4,    3,\n",
       "          3,    2,    2,    1,    1,    1,    1], dtype=int64)"
      ]
     },
     "execution_count": 12,
     "metadata": {},
     "output_type": "execute_result"
    }
   ],
   "source": [
    "c1=car['Car Brand'].value_counts()\n",
    "print(c1.index)\n",
    "c1.values"
   ]
  },
  {
   "cell_type": "code",
   "execution_count": 13,
   "id": "f2429f85",
   "metadata": {
    "scrolled": true
   },
   "outputs": [
    {
     "data": {
      "image/png": "[encoded data removed]",
      "text/plain": [
       "<Figure size 432x288 with 1 Axes>"
      ]
     },
     "metadata": {
      "needs_background": "light"
     },
     "output_type": "display_data"
    }
   ],
   "source": [
    "plt.plot(c1.index,c1.values,color='blue',marker='o',lw=2,markersize=5)\n",
    "plt.xlabel('Car Brands')\n",
    "plt.ylabel('Car Counts')\n",
    "plt.xticks(rotation=90)\n",
    "plt.grid()\n",
    "plt.show()"
   ]
  },
  {
   "cell_type": "markdown",
   "id": "76dba794",
   "metadata": {},
   "source": [
    "$Conclusion$: Maruti, Hyundai, Mahindra are top three cars with Large number of car series."
   ]
  },
  {
   "cell_type": "markdown",
   "id": "9ec1d375",
   "metadata": {},
   "source": [
    "<b>value counts of categorical column namely fuels on line chart(matplotlib)"
   ]
  },
  {
   "cell_type": "code",
   "execution_count": 14,
   "id": "487c8f9b",
   "metadata": {
    "scrolled": true
   },
   "outputs": [
    {
     "name": "stdout",
     "output_type": "stream",
     "text": [
      "Index(['Diesel', 'Petrol', 'CNG', 'LPG', 'Electric'], dtype='object')\n",
      "[1800 1717   37   22    1]\n"
     ]
    }
   ],
   "source": [
    "c1=car['fuel'].value_counts()\n",
    "print(c1.index)\n",
    "print(c1.values)"
   ]
  },
  {
   "cell_type": "code",
   "execution_count": 15,
   "id": "1e022d0f",
   "metadata": {
    "scrolled": true
   },
   "outputs": [
    {
     "data": {
      "image/png": "[encoded data removed]",
      "text/plain": [
       "<Figure size 432x288 with 1 Axes>"
      ]
     },
     "metadata": {
      "needs_background": "light"
     },
     "output_type": "display_data"
    }
   ],
   "source": [
    "#plt.figure(figsize=(8,5))\n",
    "plt.plot(c1.index,c1.values,color='red',marker='d')\n",
    "plt.xlabel('fuels')\n",
    "plt.title('types of fuels')\n",
    "plt.xticks(rotation=90)\n",
    "plt.grid()\n",
    "plt.show()"
   ]
  },
  {
   "cell_type": "code",
   "execution_count": 16,
   "id": "012cd150",
   "metadata": {},
   "outputs": [
    {
     "data": {
      "text/html": [
       "<div>\n",
       "<style scoped>\n",
       "    .dataframe tbody tr th:only-of-type {\n",
       "        vertical-align: middle;\n",
       "    }\n",
       "\n",
       "    .dataframe tbody tr th {\n",
       "        vertical-align: top;\n",
       "    }\n",
       "\n",
       "    .dataframe thead th {\n",
       "        text-align: right;\n",
       "    }\n",
       "</style>\n",
       "<table border=\"1\" class=\"dataframe\">\n",
       "  <thead>\n",
       "    <tr style=\"text-align: right;\">\n",
       "      <th></th>\n",
       "      <th>name</th>\n",
       "      <th>Car Brand</th>\n",
       "      <th>year</th>\n",
       "      <th>selling_price</th>\n",
       "      <th>km_driven</th>\n",
       "      <th>fuel</th>\n",
       "      <th>seller_type</th>\n",
       "      <th>transmission</th>\n",
       "      <th>owner</th>\n",
       "    </tr>\n",
       "  </thead>\n",
       "  <tbody>\n",
       "    <tr>\n",
       "      <th>4024</th>\n",
       "      <td>Toyota Camry Hybrid</td>\n",
       "      <td>Toyota</td>\n",
       "      <td>2006</td>\n",
       "      <td>310000</td>\n",
       "      <td>62000</td>\n",
       "      <td>Electric</td>\n",
       "      <td>Dealer</td>\n",
       "      <td>Automatic</td>\n",
       "      <td>Second Owner</td>\n",
       "    </tr>\n",
       "  </tbody>\n",
       "</table>\n",
       "</div>"
      ],
      "text/plain": [
       "                     name Car Brand  year  selling_price  km_driven      fuel  \\\n",
       "4024  Toyota Camry Hybrid    Toyota  2006         310000      62000  Electric   \n",
       "\n",
       "     seller_type transmission         owner  \n",
       "4024      Dealer    Automatic  Second Owner  "
      ]
     },
     "execution_count": 16,
     "metadata": {},
     "output_type": "execute_result"
    }
   ],
   "source": [
    "car[car['fuel']=='Electric']"
   ]
  },
  {
   "cell_type": "markdown",
   "id": "cc5a2775",
   "metadata": {},
   "source": [
    "$Conculsion$:\n",
    "* The Count of diesel cars and petrol cars are higer than CNG ,LPG, Electric\n",
    "* And there is only one electric car in the data set."
   ]
  },
  {
   "cell_type": "code",
   "execution_count": 17,
   "id": "cb4ab812",
   "metadata": {},
   "outputs": [
    {
     "data": {
      "text/plain": [
       "Index(['Individual', 'Dealer', 'Trustmark Dealer'], dtype='object')"
      ]
     },
     "execution_count": 17,
     "metadata": {},
     "output_type": "execute_result"
    }
   ],
   "source": [
    "c2=car['seller_type'].value_counts()\n",
    "c2.index"
   ]
  },
  {
   "cell_type": "code",
   "execution_count": 18,
   "id": "95a7a13f",
   "metadata": {},
   "outputs": [
    {
     "data": {
      "image/png": "[encoded data removed]",
      "text/plain": [
       "<Figure size 432x288 with 1 Axes>"
      ]
     },
     "metadata": {},
     "output_type": "display_data"
    }
   ],
   "source": [
    "plt.pie(c2.values,labels=c2.index,autopct='%.2f%%',shadow=True,)\n",
    "plt.title('seller type count percentage distribution')\n",
    "plt.legend()\n",
    "plt.show()"
   ]
  },
  {
   "cell_type": "markdown",
   "id": "51dfcef2",
   "metadata": {},
   "source": [
    "$Conclusion$: From the above graph we can see that most people sell their cars individually instead of going to dealers."
   ]
  },
  {
   "cell_type": "markdown",
   "id": "ff6acd67",
   "metadata": {},
   "source": [
    "<b>Count values of Transmission in on bar chart using matplotlib"
   ]
  },
  {
   "cell_type": "code",
   "execution_count": 19,
   "id": "e4bcaacc",
   "metadata": {},
   "outputs": [
    {
     "data": {
      "text/plain": [
       "Manual       3265\n",
       "Automatic     312\n",
       "Name: transmission, dtype: int64"
      ]
     },
     "execution_count": 19,
     "metadata": {},
     "output_type": "execute_result"
    }
   ],
   "source": [
    "c3=car['transmission'].value_counts()\n",
    "c3"
   ]
  },
  {
   "cell_type": "code",
   "execution_count": 20,
   "id": "805e27ad",
   "metadata": {},
   "outputs": [
    {
     "data": {
      "image/png": "[encoded data removed]",
      "text/plain": [
       "<Figure size 288x216 with 1 Axes>"
      ]
     },
     "metadata": {
      "needs_background": "light"
     },
     "output_type": "display_data"
    }
   ],
   "source": [
    "plt.figure(figsize=(4,3))\n",
    "plt.bar(c3.index,c3.values,color='blue',edgecolor='black',label='Transmission counts')\n",
    "plt.title('Transmission Counts')\n",
    "plt.ylabel('Counts')\n",
    "plt.xlabel('Transmissions')\n",
    "plt.show()"
   ]
  },
  {
   "cell_type": "markdown",
   "id": "ab995d07",
   "metadata": {},
   "source": [
    "$Conclusion$: Maximum number of cars are transmitted  manually."
   ]
  },
  {
   "cell_type": "markdown",
   "id": "7544eb8e",
   "metadata": {},
   "source": [
    "### Count values of owner on char using "
   ]
  },
  {
   "cell_type": "code",
   "execution_count": 21,
   "id": "adc1e40d",
   "metadata": {},
   "outputs": [
    {
     "data": {
      "text/plain": [
       "First Owner             2218\n",
       "Second Owner             978\n",
       "Third Owner              289\n",
       "Fourth & Above Owner      75\n",
       "Test Drive Car            17\n",
       "Name: owner, dtype: int64"
      ]
     },
     "execution_count": 21,
     "metadata": {},
     "output_type": "execute_result"
    }
   ],
   "source": [
    "c4=car['owner'].value_counts()\n",
    "c4"
   ]
  },
  {
   "cell_type": "code",
   "execution_count": 22,
   "id": "aeaa83de",
   "metadata": {
    "scrolled": true
   },
   "outputs": [
    {
     "data": {
      "image/png": "[encoded data removed]",
      "text/plain": [
       "<Figure size 432x288 with 1 Axes>"
      ]
     },
     "metadata": {
      "needs_background": "light"
     },
     "output_type": "display_data"
    }
   ],
   "source": [
    "sns.lineplot(c4.index,c4.values,marker='*',markersize=17)\n",
    "plt.xticks(rotation=90)\n",
    "plt.title('car owners')\n",
    "plt.ylabel('value counts')\n",
    "plt.xlabel('owners')\n",
    "plt.grid()\n",
    "plt.show()"
   ]
  },
  {
   "cell_type": "markdown",
   "id": "8aa4c474",
   "metadata": {},
   "source": [
    "$Conclusion$: \n",
    "* From the above graph we can conclude that the number of First Owners selling their car is higher.\n",
    "* The number of Fourth & Above Owners selling the car is low reason may be due to less profit through selling the cars.\n",
    "* Test Drive Car are the lowest count of all other counts."
   ]
  },
  {
   "cell_type": "code",
   "execution_count": 23,
   "id": "b2f56a49",
   "metadata": {
    "scrolled": true
   },
   "outputs": [
    {
     "data": {
      "image/png": "[encoded data removed]",
      "text/plain": [
       "<Figure size 540x540 with 12 Axes>"
      ]
     },
     "metadata": {
      "needs_background": "light"
     },
     "output_type": "display_data"
    }
   ],
   "source": [
    "sns.pairplot(car,diag_kind='kde')\n",
    "plt.show()"
   ]
  },
  {
   "cell_type": "code",
   "execution_count": 24,
   "id": "2cdd3326",
   "metadata": {},
   "outputs": [
    {
     "name": "stdout",
     "output_type": "stream",
     "text": [
      "                  year  selling_price  km_driven\n",
      "year           1.00000       0.424260  -0.417490\n",
      "selling_price  0.42426       1.000000  -0.187359\n",
      "km_driven     -0.41749      -0.187359   1.000000\n"
     ]
    }
   ],
   "source": [
    "corr= car.corr()\n",
    "print(corr)\n",
    "#print(corr.index)\n",
    "#corr.values"
   ]
  },
  {
   "cell_type": "code",
   "execution_count": 25,
   "id": "28e5a1b9",
   "metadata": {},
   "outputs": [
    {
     "data": {
      "image/png": "[encoded data removed]",
      "text/plain": [
       "<Figure size 432x288 with 2 Axes>"
      ]
     },
     "metadata": {
      "needs_background": "light"
     },
     "output_type": "display_data"
    }
   ],
   "source": [
    "sns.heatmap(corr,annot=True,vmin=-1,vmax=1,fmt=\".2f\")\n",
    "plt.show()"
   ]
  },
  {
   "cell_type": "markdown",
   "id": "75214b86",
   "metadata": {},
   "source": [
    "$Conculsion$- \n",
    "* The Km driven and Selling Price have a very low negative correlation.\n",
    "* Selling price and year have a moderate postive correlation. "
   ]
  },
  {
   "cell_type": "code",
   "execution_count": 26,
   "id": "a94ada52",
   "metadata": {},
   "outputs": [
    {
     "data": {
      "image/png": "[encoded data removed]",
      "text/plain": [
       "<Figure size 432x288 with 1 Axes>"
      ]
     },
     "metadata": {
      "needs_background": "light"
     },
     "output_type": "display_data"
    }
   ],
   "source": [
    "sns.distplot(np.log(car['selling_price']),color='blue')\n",
    "plt.show()"
   ]
  },
  {
   "cell_type": "markdown",
   "id": "0e956e3c",
   "metadata": {},
   "source": [
    "### Bar chats"
   ]
  },
  {
   "cell_type": "code",
   "execution_count": 27,
   "id": "a9c849de",
   "metadata": {},
   "outputs": [],
   "source": [
    "d1=car.groupby('year')['selling_price'].mean().reset_index()\n",
    "d1=d1.sort_values(by='year',ascending=True)"
   ]
  },
  {
   "cell_type": "code",
   "execution_count": 28,
   "id": "52ba29df",
   "metadata": {
    "scrolled": true
   },
   "outputs": [
    {
     "data": {
      "image/png": "[encoded data removed]",
      "text/plain": [
       "<Figure size 720x288 with 1 Axes>"
      ]
     },
     "metadata": {
      "needs_background": "light"
     },
     "output_type": "display_data"
    }
   ],
   "source": [
    "plt.figure(figsize=(10,4))\n",
    "plt.bar(d1['year'],d1['selling_price'],color='cyan',edgecolor='black',label='selling_price')\n",
    "plt.plot(d1['year'],d1['selling_price'],color='red',lw=2,marker='o')\n",
    "plt.title('year wise car selling price',fontsize=15,color='Orange')\n",
    "plt.xlabel('Year')\n",
    "plt.ylabel('selling price')\n",
    "plt.xlim(1990,2021)\n",
    "plt.legend()\n",
    "plt.grid()\n",
    "plt.show()"
   ]
  },
  {
   "cell_type": "markdown",
   "id": "7358473e",
   "metadata": {},
   "source": [
    "$Conclusion$:\n",
    "* From the above graph we can conclude that the selling price of cars increased from the year 2006 till the year 2019. \n",
    "* But in the year 2020, selling prices dropped slightly. "
   ]
  },
  {
   "cell_type": "code",
   "execution_count": 29,
   "id": "40f5d395",
   "metadata": {
    "scrolled": true
   },
   "outputs": [
    {
     "data": {
      "image/png": "[encoded data removed]",
      "text/plain": [
       "<Figure size 432x288 with 2 Axes>"
      ]
     },
     "metadata": {
      "needs_background": "light"
     },
     "output_type": "display_data"
    }
   ],
   "source": [
    "c1=car.groupby('year')[['selling_price']].mean().reset_index()\n",
    "corr1=c1.corr()\n",
    "sns.heatmap(corr1,annot=True,vmin=-1,vmax=1,fmt='.2f')\n",
    "plt.show()"
   ]
  },
  {
   "cell_type": "markdown",
   "id": "c9fa5fa9",
   "metadata": {},
   "source": [
    "$Conclusion$: Average selling price and year have the strong correlation."
   ]
  },
  {
   "cell_type": "markdown",
   "id": "2aab994f",
   "metadata": {},
   "source": [
    "#### Car Brand based selling price"
   ]
  },
  {
   "cell_type": "code",
   "execution_count": 30,
   "id": "cff8be1d",
   "metadata": {
    "scrolled": false
   },
   "outputs": [
    {
     "name": "stdout",
     "output_type": "stream",
     "text": [
      "['Ambassador', 'Audi', 'BMW', 'Chevrolet', 'Daewoo', 'Datsun', 'Fiat', 'Force', 'Ford', 'Honda', 'Hyundai', 'Isuzu', 'Jaguar', 'Jeep', 'Kia', 'Land', 'MG', 'Mahindra', 'Maruti', 'Mercedes-Benz', 'Mitsubishi', 'Nissan', 'OpelCorsa', 'Renault', 'Skoda', 'Tata', 'Toyota', 'Volkswagen', 'Volvo']\n",
      "[200000.0, 2185451.6129032257, 2242800.0, 232713.1655629139, 60000.0, 296551.6551724138, 287093.71875, 346000.0, 563627.2318181818, 539944.3981481482, 413340.612244898, 1500000.0, 2072999.8, 1530000.0, 1300000.0, 3609800.0, 1842500.0, 584780.4451219512, 332031.21361940296, 2299238.095238095, 843000.0, 457038.4038461539, 88500.0, 408399.9727272727, 475551.02040816325, 278672.4025974026, 838917.594117647, 461666.623655914, 2556250.0]\n"
     ]
    }
   ],
   "source": [
    "br=car.groupby('Car Brand')['selling_price'].mean()\n",
    "bi=br.index.tolist()\n",
    "bv=br.values.tolist()\n",
    "print(bi)\n",
    "print(bv)"
   ]
  },
  {
   "cell_type": "code",
   "execution_count": 31,
   "id": "067ec13f",
   "metadata": {
    "scrolled": true
   },
   "outputs": [
    {
     "data": {
      "image/png": "[encoded data removed]",
      "text/plain": [
       "<Figure size 576x288 with 1 Axes>"
      ]
     },
     "metadata": {
      "needs_background": "light"
     },
     "output_type": "display_data"
    }
   ],
   "source": [
    "plt.figure(figsize=(8,4))\n",
    "plt.bar(bi,bv,color='orange',edgecolor='black')\n",
    "plt.bar(bi[bv.index(max(bv))],max(bv),color='green')\n",
    "plt.bar(bi[bv.index(min(bv))],min(bv),color='red')\n",
    "plt.xlabel('Car Brands')\n",
    "plt.xticks(rotation=90)\n",
    "plt.show()"
   ]
  },
  {
   "cell_type": "markdown",
   "id": "5ba0a5fd",
   "metadata": {},
   "source": [
    "$Conclusion$: In this Land Car brand has the highest selling price and Daewoo has the lowest selling price"
   ]
  },
  {
   "cell_type": "code",
   "execution_count": 32,
   "id": "d48382a3",
   "metadata": {},
   "outputs": [
    {
     "data": {
      "text/plain": [
       "Index(['name', 'Car Brand', 'year', 'selling_price', 'km_driven', 'fuel',\n",
       "       'seller_type', 'transmission', 'owner'],\n",
       "      dtype='object')"
      ]
     },
     "execution_count": 32,
     "metadata": {},
     "output_type": "execute_result"
    }
   ],
   "source": [
    "car.columns"
   ]
  },
  {
   "cell_type": "code",
   "execution_count": 33,
   "id": "f3bcaa94",
   "metadata": {},
   "outputs": [
    {
     "data": {
      "text/html": [
       "<div>\n",
       "<style scoped>\n",
       "    .dataframe tbody tr th:only-of-type {\n",
       "        vertical-align: middle;\n",
       "    }\n",
       "\n",
       "    .dataframe tbody tr th {\n",
       "        vertical-align: top;\n",
       "    }\n",
       "\n",
       "    .dataframe thead th {\n",
       "        text-align: right;\n",
       "    }\n",
       "</style>\n",
       "<table border=\"1\" class=\"dataframe\">\n",
       "  <thead>\n",
       "    <tr style=\"text-align: right;\">\n",
       "      <th></th>\n",
       "      <th>selling_price</th>\n",
       "    </tr>\n",
       "    <tr>\n",
       "      <th>fuel</th>\n",
       "      <th></th>\n",
       "    </tr>\n",
       "  </thead>\n",
       "  <tbody>\n",
       "    <tr>\n",
       "      <th>CNG</th>\n",
       "      <td>273162.081081</td>\n",
       "    </tr>\n",
       "    <tr>\n",
       "      <th>Diesel</th>\n",
       "      <td>614001.075000</td>\n",
       "    </tr>\n",
       "    <tr>\n",
       "      <th>Electric</th>\n",
       "      <td>310000.000000</td>\n",
       "    </tr>\n",
       "    <tr>\n",
       "      <th>LPG</th>\n",
       "      <td>171818.136364</td>\n",
       "    </tr>\n",
       "    <tr>\n",
       "      <th>Petrol</th>\n",
       "      <td>335344.340128</td>\n",
       "    </tr>\n",
       "  </tbody>\n",
       "</table>\n",
       "</div>"
      ],
      "text/plain": [
       "          selling_price\n",
       "fuel                   \n",
       "CNG       273162.081081\n",
       "Diesel    614001.075000\n",
       "Electric  310000.000000\n",
       "LPG       171818.136364\n",
       "Petrol    335344.340128"
      ]
     },
     "execution_count": 33,
     "metadata": {},
     "output_type": "execute_result"
    }
   ],
   "source": [
    "d3=car.groupby('fuel')[['selling_price']].mean()\n",
    "d3.head()"
   ]
  },
  {
   "cell_type": "code",
   "execution_count": 34,
   "id": "4bfcd055",
   "metadata": {
    "scrolled": false
   },
   "outputs": [
    {
     "data": {
      "image/png": "[encoded data removed]",
      "text/plain": [
       "<Figure size 432x288 with 1 Axes>"
      ]
     },
     "metadata": {
      "needs_background": "light"
     },
     "output_type": "display_data"
    }
   ],
   "source": [
    "plt.bar(d3.index,d3['selling_price'],label='selling_price',color='orange',edgecolor='black')\n",
    "plt.title('fuel wise km driven and selling price')\n",
    "plt.xlabel('fuel',fontsize=15)\n",
    "#plt.xticks(rotation=90)\n",
    "plt.legend()\n",
    "plt.grid()\n",
    "plt.savefig('fuel wise km driven and selling price')\n",
    "plt.show()"
   ]
  },
  {
   "cell_type": "markdown",
   "id": "9e4446bf",
   "metadata": {},
   "source": [
    "$Conclustion$:\n",
    "* The Conclustion from the above graph that the <b>LPG</b> the mean selling price is less then all other fuels but the  Km Driven is considerable higher then the all other fuels.\n",
    "* The Selling Price of the Diesel car is Higher then all other fuel cars."
   ]
  },
  {
   "cell_type": "code",
   "execution_count": 35,
   "id": "abc8aa18",
   "metadata": {},
   "outputs": [
    {
     "data": {
      "text/html": [
       "<div>\n",
       "<style scoped>\n",
       "    .dataframe tbody tr th:only-of-type {\n",
       "        vertical-align: middle;\n",
       "    }\n",
       "\n",
       "    .dataframe tbody tr th {\n",
       "        vertical-align: top;\n",
       "    }\n",
       "\n",
       "    .dataframe thead th {\n",
       "        text-align: right;\n",
       "    }\n",
       "</style>\n",
       "<table border=\"1\" class=\"dataframe\">\n",
       "  <thead>\n",
       "    <tr style=\"text-align: right;\">\n",
       "      <th></th>\n",
       "      <th>selling_price</th>\n",
       "    </tr>\n",
       "    <tr>\n",
       "      <th>owner</th>\n",
       "      <th></th>\n",
       "    </tr>\n",
       "  </thead>\n",
       "  <tbody>\n",
       "    <tr>\n",
       "      <th>First Owner</th>\n",
       "      <td>565385.447250</td>\n",
       "    </tr>\n",
       "    <tr>\n",
       "      <th>Fourth &amp; Above Owner</th>\n",
       "      <td>181213.293333</td>\n",
       "    </tr>\n",
       "    <tr>\n",
       "      <th>Second Owner</th>\n",
       "      <td>341954.140082</td>\n",
       "    </tr>\n",
       "    <tr>\n",
       "      <th>Test Drive Car</th>\n",
       "      <td>954293.941176</td>\n",
       "    </tr>\n",
       "    <tr>\n",
       "      <th>Third Owner</th>\n",
       "      <td>266142.207612</td>\n",
       "    </tr>\n",
       "  </tbody>\n",
       "</table>\n",
       "</div>"
      ],
      "text/plain": [
       "                      selling_price\n",
       "owner                              \n",
       "First Owner           565385.447250\n",
       "Fourth & Above Owner  181213.293333\n",
       "Second Owner          341954.140082\n",
       "Test Drive Car        954293.941176\n",
       "Third Owner           266142.207612"
      ]
     },
     "execution_count": 35,
     "metadata": {},
     "output_type": "execute_result"
    }
   ],
   "source": [
    "own=car.groupby('owner')[['selling_price']].mean()\n",
    "\n",
    "own# average selling price based on owner"
   ]
  },
  {
   "cell_type": "code",
   "execution_count": 36,
   "id": "ea0542cd",
   "metadata": {},
   "outputs": [
    {
     "data": {
      "image/png": "[encoded data removed]",
      "text/plain": [
       "<Figure size 432x288 with 1 Axes>"
      ]
     },
     "metadata": {
      "needs_background": "light"
     },
     "output_type": "display_data"
    }
   ],
   "source": [
    "# lets plot it in the graph\n",
    "plt.bar(own.index,own['selling_price'],label='Owners',edgecolor='black')\n",
    "plt.title('Owner Based Average Selling Price')\n",
    "plt.legend()\n",
    "plt.ylabel('Selling price')\n",
    "plt.xlabel('Owner')\n",
    "plt.xticks(rotation=90)\n",
    "plt.show()"
   ]
  },
  {
   "cell_type": "markdown",
   "id": "f6832cd6",
   "metadata": {},
   "source": [
    "$Observation$: \n",
    "* Test Drive car's selling price are higher than all other cars. Because these cars are directly from the showroom.\n",
    "* Fourth & Above-Owner car's selling price are less than all other cars' selling prices. \n",
    "* Because these cars are used by more than four owners, so there may be worse fuel efficiency, old technology are reasons for the drop in selling price."
   ]
  },
  {
   "cell_type": "code",
   "execution_count": 37,
   "id": "b7fe79fe",
   "metadata": {},
   "outputs": [
    {
     "data": {
      "text/plain": [
       "Index(['name', 'Car Brand', 'year', 'selling_price', 'km_driven', 'fuel',\n",
       "       'seller_type', 'transmission', 'owner'],\n",
       "      dtype='object')"
      ]
     },
     "execution_count": 37,
     "metadata": {},
     "output_type": "execute_result"
    }
   ],
   "source": [
    "car.columns"
   ]
  },
  {
   "cell_type": "code",
   "execution_count": 38,
   "id": "92a46244",
   "metadata": {},
   "outputs": [
    {
     "data": {
      "text/html": [
       "<div>\n",
       "<style scoped>\n",
       "    .dataframe tbody tr th:only-of-type {\n",
       "        vertical-align: middle;\n",
       "    }\n",
       "\n",
       "    .dataframe tbody tr th {\n",
       "        vertical-align: top;\n",
       "    }\n",
       "\n",
       "    .dataframe thead th {\n",
       "        text-align: right;\n",
       "    }\n",
       "</style>\n",
       "<table border=\"1\" class=\"dataframe\">\n",
       "  <thead>\n",
       "    <tr style=\"text-align: right;\">\n",
       "      <th></th>\n",
       "      <th>name</th>\n",
       "      <th>Car Brand</th>\n",
       "      <th>year</th>\n",
       "      <th>selling_price</th>\n",
       "      <th>km_driven</th>\n",
       "      <th>fuel</th>\n",
       "      <th>seller_type</th>\n",
       "      <th>transmission</th>\n",
       "      <th>owner</th>\n",
       "    </tr>\n",
       "  </thead>\n",
       "  <tbody>\n",
       "    <tr>\n",
       "      <th>0</th>\n",
       "      <td>Ambassador CLASSIC 1500 DSL AC</td>\n",
       "      <td>Ambassador</td>\n",
       "      <td>2005</td>\n",
       "      <td>120000</td>\n",
       "      <td>50000</td>\n",
       "      <td>Diesel</td>\n",
       "      <td>Individual</td>\n",
       "      <td>Manual</td>\n",
       "      <td>Second Owner</td>\n",
       "    </tr>\n",
       "    <tr>\n",
       "      <th>2</th>\n",
       "      <td>Ambassador Classic 2000 Dsz</td>\n",
       "      <td>Ambassador</td>\n",
       "      <td>2002</td>\n",
       "      <td>50000</td>\n",
       "      <td>120000</td>\n",
       "      <td>Diesel</td>\n",
       "      <td>Individual</td>\n",
       "      <td>Manual</td>\n",
       "      <td>Fourth &amp; Above Owner</td>\n",
       "    </tr>\n",
       "    <tr>\n",
       "      <th>3</th>\n",
       "      <td>Ambassador Grand 1800 ISZ MPFI PW CL</td>\n",
       "      <td>Ambassador</td>\n",
       "      <td>2012</td>\n",
       "      <td>430000</td>\n",
       "      <td>50000</td>\n",
       "      <td>Petrol</td>\n",
       "      <td>Individual</td>\n",
       "      <td>Manual</td>\n",
       "      <td>Second Owner</td>\n",
       "    </tr>\n",
       "    <tr>\n",
       "      <th>4</th>\n",
       "      <td>Audi A4 1.8 TFSI</td>\n",
       "      <td>Audi</td>\n",
       "      <td>2012</td>\n",
       "      <td>1200000</td>\n",
       "      <td>60000</td>\n",
       "      <td>Petrol</td>\n",
       "      <td>Individual</td>\n",
       "      <td>Automatic</td>\n",
       "      <td>Third Owner</td>\n",
       "    </tr>\n",
       "    <tr>\n",
       "      <th>5</th>\n",
       "      <td>Audi A4 2.0 TDI</td>\n",
       "      <td>Audi</td>\n",
       "      <td>2011</td>\n",
       "      <td>1295000</td>\n",
       "      <td>58000</td>\n",
       "      <td>Diesel</td>\n",
       "      <td>Dealer</td>\n",
       "      <td>Automatic</td>\n",
       "      <td>First Owner</td>\n",
       "    </tr>\n",
       "  </tbody>\n",
       "</table>\n",
       "</div>"
      ],
      "text/plain": [
       "                                   name   Car Brand  year  selling_price  \\\n",
       "0        Ambassador CLASSIC 1500 DSL AC  Ambassador  2005         120000   \n",
       "2           Ambassador Classic 2000 Dsz  Ambassador  2002          50000   \n",
       "3  Ambassador Grand 1800 ISZ MPFI PW CL  Ambassador  2012         430000   \n",
       "4                      Audi A4 1.8 TFSI        Audi  2012        1200000   \n",
       "5                       Audi A4 2.0 TDI        Audi  2011        1295000   \n",
       "\n",
       "   km_driven    fuel seller_type transmission                 owner  \n",
       "0      50000  Diesel  Individual       Manual          Second Owner  \n",
       "2     120000  Diesel  Individual       Manual  Fourth & Above Owner  \n",
       "3      50000  Petrol  Individual       Manual          Second Owner  \n",
       "4      60000  Petrol  Individual    Automatic           Third Owner  \n",
       "5      58000  Diesel      Dealer    Automatic           First Owner  "
      ]
     },
     "execution_count": 38,
     "metadata": {},
     "output_type": "execute_result"
    }
   ],
   "source": [
    "car.head()"
   ]
  },
  {
   "cell_type": "code",
   "execution_count": 39,
   "id": "00a71429",
   "metadata": {
    "scrolled": true
   },
   "outputs": [
    {
     "name": "stdout",
     "output_type": "stream",
     "text": [
      "Index(['Dealer', 'Individual', 'Trustmark Dealer'], dtype='object', name='seller_type')\n"
     ]
    },
    {
     "data": {
      "text/plain": [
       "array([652699.39044944, 424904.02436441, 822272.72727273])"
      ]
     },
     "execution_count": 39,
     "metadata": {},
     "output_type": "execute_result"
    }
   ],
   "source": [
    "s1=car['seller_type'].value_counts()\n",
    "s1=car.groupby('seller_type')['selling_price'].mean()\n",
    "print(s1.index)\n",
    "s1.values"
   ]
  },
  {
   "cell_type": "code",
   "execution_count": 40,
   "id": "c966133b",
   "metadata": {
    "scrolled": true
   },
   "outputs": [
    {
     "data": {
      "image/png": "[encoded data removed]",
      "text/plain": [
       "<Figure size 432x288 with 1 Axes>"
      ]
     },
     "metadata": {},
     "output_type": "display_data"
    }
   ],
   "source": [
    "plt.pie(s1.values,labels=s1.index,colors=['red','green','cyan'],autopct='%.2f%%',shadow='True')\n",
    "plt.title('seller type selling price')\n",
    "plt.xlabel('seller_type')\n",
    "#plt.ylabel('mean selling price')\n",
    "plt.show()"
   ]
  },
  {
   "cell_type": "markdown",
   "id": "7de34612",
   "metadata": {},
   "source": [
    "$Conclustion$: We saw in the previous graph the seller_type count of Trustmarker Dealer is very low. But this graph is the opposite, in which the average selling price of the Trustmark Dealer is higher than the other two selling types."
   ]
  },
  {
   "cell_type": "markdown",
   "id": "b825b894",
   "metadata": {},
   "source": [
    "### Creating ML model"
   ]
  },
  {
   "cell_type": "code",
   "execution_count": 41,
   "id": "5982cce2",
   "metadata": {
    "scrolled": true
   },
   "outputs": [],
   "source": [
    "# so filtering outliers using quantile \n",
    "min_thresold,max_thresold=car.km_driven.quantile([0.05,0.95])\n",
    "df=car[(car.km_driven > min_thresold)&(car.km_driven < max_thresold)]\n",
    "min_sell,max_sell=car.selling_price.quantile([0.05,0.95])\n",
    "df=car[(car.selling_price > min_sell)&(car.selling_price < max_sell)]\n",
    "#df.head()"
   ]
  },
  {
   "cell_type": "code",
   "execution_count": 42,
   "id": "1d39421f",
   "metadata": {
    "scrolled": true
   },
   "outputs": [
    {
     "data": {
      "text/plain": [
       "Maruti           1072\n",
       "Hyundai           637\n",
       "Mahindra          328\n",
       "Tata              308\n",
       "Ford              220\n",
       "Honda             216\n",
       "Toyota            170\n",
       "Chevrolet         151\n",
       "Renault           110\n",
       "Volkswagen         93\n",
       "Nissan             52\n",
       "Skoda              49\n",
       "Fiat               32\n",
       "Audi               31\n",
       "Datsun             29\n",
       "BMW                25\n",
       "Mercedes-Benz      21\n",
       "Mitsubishi          5\n",
       "Land                5\n",
       "Jaguar              5\n",
       "Volvo               4\n",
       "Ambassador          3\n",
       "Jeep                3\n",
       "OpelCorsa           2\n",
       "MG                  2\n",
       "Isuzu               1\n",
       "Force               1\n",
       "Daewoo              1\n",
       "Kia                 1\n",
       "Name: Car Brand, dtype: int64"
      ]
     },
     "execution_count": 42,
     "metadata": {},
     "output_type": "execute_result"
    }
   ],
   "source": [
    "car['Car Brand'].value_counts()"
   ]
  },
  {
   "cell_type": "code",
   "execution_count": 43,
   "id": "ef54b15b",
   "metadata": {},
   "outputs": [],
   "source": [
    "df= df[(df['Car Brand'] != 'Kia')&(df['Car Brand']!='Daewoo')&(df['Car Brand']!='Force')&(df['Car Brand']!='Isuzu')\n",
    "       &(df['Car Brand']!='MG')&(df['Car Brand']!='OpelCorsa')\n",
    "       &(df['Car Brand']!='Jeep')&(df['Car Brand']!='Ambassador')]\n",
    "df=df[(df['Car Brand']!='Mitsubishi')&(df['Car Brand']!='BMW')&\n",
    "      (df['Car Brand']!='Mercedes-Benz')&(df['Car Brand']!='Audi')]\n",
    "df=df[(df['Car Brand']!='Skoda')&(df['Car Brand']!='Fiat')\n",
    "      &(df['Car Brand']!='Datsun')&(df['Car Brand']!='Nissan')]"
   ]
  },
  {
   "cell_type": "code",
   "execution_count": 44,
   "id": "ad9234e9",
   "metadata": {
    "scrolled": true
   },
   "outputs": [
    {
     "data": {
      "text/plain": [
       "Maruti        973\n",
       "Hyundai       597\n",
       "Mahindra      300\n",
       "Tata          252\n",
       "Honda         208\n",
       "Ford          203\n",
       "Chevrolet     143\n",
       "Toyota        135\n",
       "Renault       110\n",
       "Volkswagen     92\n",
       "Name: Car Brand, dtype: int64"
      ]
     },
     "execution_count": 44,
     "metadata": {},
     "output_type": "execute_result"
    }
   ],
   "source": [
    "df['Car Brand'].value_counts()"
   ]
  },
  {
   "cell_type": "code",
   "execution_count": 45,
   "id": "d2629df3",
   "metadata": {},
   "outputs": [
    {
     "data": {
      "text/plain": [
       "Diesel    1505\n",
       "Petrol    1453\n",
       "CNG         36\n",
       "Name: fuel, dtype: int64"
      ]
     },
     "execution_count": 45,
     "metadata": {},
     "output_type": "execute_result"
    }
   ],
   "source": [
    "df['fuel'].value_counts()\n",
    "df=df[df['fuel'] !='Electric']\n",
    "df=df[df['fuel']!='LPG']\n",
    "df['fuel'].value_counts()"
   ]
  },
  {
   "cell_type": "markdown",
   "id": "ddd25158",
   "metadata": {},
   "source": [
    "$LableEncoder$"
   ]
  },
  {
   "cell_type": "code",
   "execution_count": 88,
   "id": "4cf60817",
   "metadata": {},
   "outputs": [],
   "source": [
    "from sklearn.preprocessing import LabelEncoder\n",
    "lb=LabelEncoder()"
   ]
  },
  {
   "cell_type": "code",
   "execution_count": 87,
   "id": "eda956ff",
   "metadata": {},
   "outputs": [],
   "source": [
    "df['name']=lb.fit_transform(df['name'])\n",
    "df['seller_type']=lb.fit_transform(df['seller_type'])\n",
    "df['transmission']=lb.fit_transform(df['transmission'])\n",
    "df['owner']=lb.fit_transform(df['owner'])\n",
    "df['fuel']=lb.fit_transform(df['fuel'])\n",
    "df['Car Brand']=lb.fit_transform(df['Car Brand'])"
   ]
  },
  {
   "cell_type": "code",
   "execution_count": 86,
   "id": "3bbf11fd",
   "metadata": {
    "scrolled": true
   },
   "outputs": [],
   "source": [
    "from sklearn.preprocessing import StandardScaler\n",
    "scaler= StandardScaler()\n",
    "sts=['km_driven']\n",
    "df[sts]=scaler.fit_transform(df[sts])\n",
    "#df.shape"
   ]
  },
  {
   "cell_type": "code",
   "execution_count": 67,
   "id": "70874a07",
   "metadata": {
    "scrolled": true
   },
   "outputs": [],
   "source": [
    "#df.head()"
   ]
  },
  {
   "cell_type": "code",
   "execution_count": 68,
   "id": "316296fe",
   "metadata": {},
   "outputs": [],
   "source": [
    "#corr=df.corr()\n",
    "#sns.heatmap(corr,annot=True)\n",
    "#plt.show()"
   ]
  },
  {
   "cell_type": "markdown",
   "id": "e9ee5489",
   "metadata": {},
   "source": [
    "$Observation$:- \n",
    "* From the above heat map Selling Price and Year have moderate postive correlation. <br>\n",
    "* All other columns are negtively correlated with Selling Price "
   ]
  },
  {
   "cell_type": "code",
   "execution_count": 69,
   "id": "133d877b",
   "metadata": {},
   "outputs": [],
   "source": [
    "#df.info"
   ]
  },
  {
   "cell_type": "code",
   "execution_count": 70,
   "id": "39a2a995",
   "metadata": {
    "scrolled": true
   },
   "outputs": [],
   "source": [
    "x=df.drop(['selling_price'],axis=1)\n",
    "y=df['selling_price']\n",
    "#print(type(x))\n",
    "#print(type(y))\n",
    "#print(x.shape)\n",
    "#print(y.shape)"
   ]
  },
  {
   "cell_type": "code",
   "execution_count": 71,
   "id": "edcf3517",
   "metadata": {},
   "outputs": [],
   "source": [
    "from sklearn.model_selection import train_test_split\n",
    "x_train,x_test,y_train,y_test=train_test_split(x,y,test_size=0.35,train_size=0.65,random_state=42)"
   ]
  },
  {
   "cell_type": "code",
   "execution_count": 72,
   "id": "d28d0a7c",
   "metadata": {},
   "outputs": [],
   "source": [
    "#print(type(y_train),type(y_test))# y are series\n",
    "#print(type(x_test),type(x_train))# x are DataFrame"
   ]
  },
  {
   "cell_type": "code",
   "execution_count": 73,
   "id": "e38d90cb",
   "metadata": {},
   "outputs": [
    {
     "data": {
      "text/html": [
       "<div>\n",
       "<style scoped>\n",
       "    .dataframe tbody tr th:only-of-type {\n",
       "        vertical-align: middle;\n",
       "    }\n",
       "\n",
       "    .dataframe tbody tr th {\n",
       "        vertical-align: top;\n",
       "    }\n",
       "\n",
       "    .dataframe thead th {\n",
       "        text-align: right;\n",
       "    }\n",
       "</style>\n",
       "<table border=\"1\" class=\"dataframe\">\n",
       "  <thead>\n",
       "    <tr style=\"text-align: right;\">\n",
       "      <th></th>\n",
       "      <th>name</th>\n",
       "      <th>Car Brand</th>\n",
       "      <th>year</th>\n",
       "      <th>km_driven</th>\n",
       "      <th>fuel</th>\n",
       "      <th>seller_type</th>\n",
       "      <th>transmission</th>\n",
       "      <th>owner</th>\n",
       "    </tr>\n",
       "  </thead>\n",
       "  <tbody>\n",
       "    <tr>\n",
       "      <th>1989</th>\n",
       "      <td>604</td>\n",
       "      <td>4</td>\n",
       "      <td>2013</td>\n",
       "      <td>0.334179</td>\n",
       "      <td>1</td>\n",
       "      <td>0</td>\n",
       "      <td>1</td>\n",
       "      <td>0</td>\n",
       "    </tr>\n",
       "    <tr>\n",
       "      <th>2663</th>\n",
       "      <td>760</td>\n",
       "      <td>5</td>\n",
       "      <td>2015</td>\n",
       "      <td>0.009791</td>\n",
       "      <td>2</td>\n",
       "      <td>1</td>\n",
       "      <td>1</td>\n",
       "      <td>0</td>\n",
       "    </tr>\n",
       "    <tr>\n",
       "      <th>621</th>\n",
       "      <td>164</td>\n",
       "      <td>2</td>\n",
       "      <td>2014</td>\n",
       "      <td>-1.125876</td>\n",
       "      <td>2</td>\n",
       "      <td>1</td>\n",
       "      <td>0</td>\n",
       "      <td>0</td>\n",
       "    </tr>\n",
       "    <tr>\n",
       "      <th>1620</th>\n",
       "      <td>404</td>\n",
       "      <td>3</td>\n",
       "      <td>2010</td>\n",
       "      <td>1.042216</td>\n",
       "      <td>1</td>\n",
       "      <td>1</td>\n",
       "      <td>1</td>\n",
       "      <td>2</td>\n",
       "    </tr>\n",
       "    <tr>\n",
       "      <th>2383</th>\n",
       "      <td>634</td>\n",
       "      <td>5</td>\n",
       "      <td>2010</td>\n",
       "      <td>0.009791</td>\n",
       "      <td>2</td>\n",
       "      <td>1</td>\n",
       "      <td>1</td>\n",
       "      <td>2</td>\n",
       "    </tr>\n",
       "  </tbody>\n",
       "</table>\n",
       "</div>"
      ],
      "text/plain": [
       "      name  Car Brand  year  km_driven  fuel  seller_type  transmission  owner\n",
       "1989   604          4  2013   0.334179     1            0             1      0\n",
       "2663   760          5  2015   0.009791     2            1             1      0\n",
       "621    164          2  2014  -1.125876     2            1             0      0\n",
       "1620   404          3  2010   1.042216     1            1             1      2\n",
       "2383   634          5  2010   0.009791     2            1             1      2"
      ]
     },
     "execution_count": 73,
     "metadata": {},
     "output_type": "execute_result"
    }
   ],
   "source": [
    "x_train.head()"
   ]
  },
  {
   "cell_type": "code",
   "execution_count": 74,
   "id": "eab40f6e",
   "metadata": {},
   "outputs": [],
   "source": [
    "#y_train.head()"
   ]
  },
  {
   "cell_type": "code",
   "execution_count": 75,
   "id": "db0e067e",
   "metadata": {},
   "outputs": [],
   "source": [
    "#print(x_train.shape,x_test.shape)# x shape\n",
    "#print(y_train.shape,y_test.shape)# y shape"
   ]
  },
  {
   "cell_type": "code",
   "execution_count": 76,
   "id": "ed7744bf",
   "metadata": {},
   "outputs": [],
   "source": [
    "from sklearn.metrics import mean_absolute_error, mean_squared_error, r2_score\n",
    "from sklearn.model_selection import KFold, cross_val_score\n",
    "from sklearn.linear_model import LinearRegression, Ridge, Lasso\n",
    "from sklearn.neighbors import KNeighborsRegressor\n",
    "#from sklearn.tree import DecisionTreeClassifier\n",
    "#from sklearn.ensemble import RandomForestClassifier"
   ]
  },
  {
   "cell_type": "markdown",
   "id": "3cd1c104",
   "metadata": {},
   "source": [
    "### KNeighborsRegressor()"
   ]
  },
  {
   "cell_type": "code",
   "execution_count": 77,
   "id": "8a09792b",
   "metadata": {
    "scrolled": false
   },
   "outputs": [
    {
     "data": {
      "text/plain": [
       "0.6914219093609506"
      ]
     },
     "execution_count": 77,
     "metadata": {},
     "output_type": "execute_result"
    }
   ],
   "source": [
    "knn=KNeighborsRegressor(n_neighbors=10,metric='manhattan')\n",
    "knn.fit(x_train,y_train)\n",
    "y_pred_knn=knn.predict(x_test)\n",
    "mean_absolute_error(y_test,y_pred_knn)\n",
    "r2_score(y_test,y_pred_knn)"
   ]
  },
  {
   "cell_type": "code",
   "execution_count": 78,
   "id": "908a86f0",
   "metadata": {},
   "outputs": [
    {
     "data": {
      "text/plain": [
       "0.6914219093609506"
      ]
     },
     "execution_count": 78,
     "metadata": {},
     "output_type": "execute_result"
    }
   ],
   "source": [
    "knn.score(x_train,y_train)\n",
    "knn.score(x_test,y_test)"
   ]
  },
  {
   "cell_type": "markdown",
   "id": "fc1b968c",
   "metadata": {},
   "source": [
    "### LinearRegression()"
   ]
  },
  {
   "cell_type": "code",
   "execution_count": 79,
   "id": "accb0466",
   "metadata": {},
   "outputs": [
    {
     "data": {
      "text/plain": [
       "31566433781.13917"
      ]
     },
     "execution_count": 79,
     "metadata": {},
     "output_type": "execute_result"
    }
   ],
   "source": [
    "lg = LinearRegression()\n",
    "lg.fit(x_train,y_train)\n",
    "y_pred_lg=lg.predict(x_test)\n",
    "mean_squared_error(y_test,y_pred_lg)"
   ]
  },
  {
   "cell_type": "markdown",
   "id": "acada3fb",
   "metadata": {},
   "source": [
    "#### Ridge Regression"
   ]
  },
  {
   "cell_type": "code",
   "execution_count": 80,
   "id": "8d5ac6ba",
   "metadata": {},
   "outputs": [
    {
     "data": {
      "text/plain": [
       "137362.12465809917"
      ]
     },
     "execution_count": 80,
     "metadata": {},
     "output_type": "execute_result"
    }
   ],
   "source": [
    "rg = Ridge(alpha=3)  # lambda = alpha\n",
    "rg.fit(x_train,y_train)\n",
    "y_pred_rg=rg.predict(x_test)\n",
    "mean_absolute_error(y_test,y_pred_rg)"
   ]
  },
  {
   "cell_type": "markdown",
   "id": "d528e0d6",
   "metadata": {},
   "source": [
    "### Lasso Regression()"
   ]
  },
  {
   "cell_type": "code",
   "execution_count": 81,
   "id": "c60bb7ac",
   "metadata": {},
   "outputs": [
    {
     "data": {
      "text/plain": [
       "137362.12465809917"
      ]
     },
     "execution_count": 81,
     "metadata": {},
     "output_type": "execute_result"
    }
   ],
   "source": [
    "lasso = Lasso(alpha=0.2) # lambda = alpha = 0.1,0.2\n",
    "lasso.fit(x_train,y_train)\n",
    "y_pred_lo=lasso.predict(x_test)\n",
    "mean_absolute_error(y_test,y_pred_rg)"
   ]
  },
  {
   "cell_type": "markdown",
   "id": "9961a748",
   "metadata": {},
   "source": [
    "### Saving The best model"
   ]
  },
  {
   "cell_type": "code",
   "execution_count": 82,
   "id": "1ef2fa9e",
   "metadata": {},
   "outputs": [],
   "source": [
    "import pickle"
   ]
  },
  {
   "cell_type": "code",
   "execution_count": 83,
   "id": "197a8524",
   "metadata": {},
   "outputs": [],
   "source": [
    "# saving the best model in binary format\n",
    "# wb-write binary \n",
    "filename = 'Knn_model.pkl'\n",
    "pickle.dump(knn, open(filename, 'wb'))"
   ]
  },
  {
   "cell_type": "code",
   "execution_count": 84,
   "id": "4290b09e",
   "metadata": {},
   "outputs": [],
   "source": [
    "# saving the best model in binary format \n",
    "# wb-write binary\n",
    "filename= 'df.plk'\n",
    "pickle.dump(df,open(filename,'wb'))"
   ]
  },
  {
   "cell_type": "code",
   "execution_count": 92,
   "id": "06a8712c",
   "metadata": {},
   "outputs": [],
   "source": [
    "#knn=pickle.load(open('knn_model.pkl','rb'))\n",
    "#y_pred1=knn.predict(x_test)\n",
    "#r2_score(y_test,y_pred1)"
   ]
  }
 ],
 "metadata": {
  "kernelspec": {
   "display_name": "Python 3 (ipykernel)",
   "language": "python",
   "name": "python3"
  },
  "language_info": {
   "codemirror_mode": {
    "name": "ipython",
    "version": 3
   },
   "file_extension": ".py",
   "mimetype": "text/x-python",
   "name": "python",
   "nbconvert_exporter": "python",
   "pygments_lexer": "ipython3",
   "version": "3.9.7"
  }
 },
 "nbformat": 4,
 "nbformat_minor": 5
}
